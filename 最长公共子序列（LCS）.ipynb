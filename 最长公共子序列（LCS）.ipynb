{
 "cells": [
  {
   "cell_type": "code",
   "execution_count": 22,
   "metadata": {
    "collapsed": true
   },
   "outputs": [],
   "source": [
    "s1 = [1,3,4,5,6,7,7,8]  \n",
    "s2 = [3,5,7,4,8,6,7,8,2]  \n",
    "d = [[0]*(len(s2)+1) for i in range(len(s1)+1) ]  "
   ]
  },
  {
   "cell_type": "code",
   "execution_count": 23,
   "metadata": {},
   "outputs": [],
   "source": [
    "for i in range(1,len(s1)+1):  \n",
    "    for j in range(1,len(s2)+1):  \n",
    "        if s1[i-1] == s2[j-1]:  \n",
    "            d[i][j] = d[i-1][j-1]+1  \n",
    "        else:  \n",
    "            d[i][j] = max(d[i-1][j],d[i][j-1]) "
   ]
  },
  {
   "cell_type": "code",
   "execution_count": null,
   "metadata": {
    "collapsed": true
   },
   "outputs": [],
   "source": []
  }
 ],
 "metadata": {
  "kernelspec": {
   "display_name": "Python 3",
   "language": "python",
   "name": "python3"
  },
  "language_info": {
   "codemirror_mode": {
    "name": "ipython",
    "version": 3
   },
   "file_extension": ".py",
   "mimetype": "text/x-python",
   "name": "python",
   "nbconvert_exporter": "python",
   "pygments_lexer": "ipython3",
   "version": "3.6.3"
  }
 },
 "nbformat": 4,
 "nbformat_minor": 2
}
