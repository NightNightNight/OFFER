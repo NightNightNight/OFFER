{
 "cells": [
  {
   "cell_type": "code",
   "execution_count": 48,
   "metadata": {},
   "outputs": [],
   "source": [
    "def LCS(s1, s2):\n",
    "    len_s1 = len(s1)\n",
    "    len_s2 = len(s2)\n",
    "    c = [[0]*(len_s2 + 1) for i in range(len_s1 + 1)]\n",
    "\n",
    "    for i in range(1,len_s1 + 1):  \n",
    "        for j in range(1,len_s2 + 1):  \n",
    "            if s1[i-1] == s2[j-1]:  \n",
    "                c[i][j] = c[i-1][j-1]+1  \n",
    "            else:  \n",
    "                c[i][j] = max(c[i-1][j], c[i][j-1]) \n",
    "    print(\"The Lengh of LCS is \", c[-1][-1])\n",
    "    \n",
    "    res = []\n",
    "    i = len_s1\n",
    "    j = len_s2\n",
    "    while(i != 0 and j != 0):\n",
    "        if s1[i - 1] == s2[j - 1]:\n",
    "            res.insert(0, s1[i - 1])\n",
    "            i -= 1\n",
    "            j -= 1\n",
    "        else:\n",
    "            if c[i-1][j] > c[i][j-1]:\n",
    "                i -= 1\n",
    "            elif c[i-1][j] < c[i][j-1]:\n",
    "                j -= 1\n",
    "            else:\n",
    "                j -= 1 \n",
    "    print(res)"
   ]
  },
  {
   "cell_type": "code",
   "execution_count": 49,
   "metadata": {},
   "outputs": [
    {
     "name": "stdout",
     "output_type": "stream",
     "text": [
      "The Lengh of LCS is  5\n",
      "[3, 5, 7, 7, 8]\n"
     ]
    }
   ],
   "source": [
    "s1 = [1,3,4,5,6,7,7,8]  \n",
    "s2 = [3,5,7,4,8,6,7,8,2]  \n",
    "LCS(s1, s2)"
   ]
  },
  {
   "cell_type": "code",
   "execution_count": 51,
   "metadata": {},
   "outputs": [
    {
     "ename": "IndentationError",
     "evalue": "expected an indented block (<ipython-input-51-40068fdb8802>, line 3)",
     "output_type": "error",
     "traceback": [
      "\u001b[1;36m  File \u001b[1;32m\"<ipython-input-51-40068fdb8802>\"\u001b[1;36m, line \u001b[1;32m3\u001b[0m\n\u001b[1;33m    s1 = [1,3,4,5,6,7,7,8]\u001b[0m\n\u001b[1;37m     ^\u001b[0m\n\u001b[1;31mIndentationError\u001b[0m\u001b[1;31m:\u001b[0m expected an indented block\n"
     ]
    }
   ],
   "source": []
  },
  {
   "cell_type": "code",
   "execution_count": null,
   "metadata": {
    "collapsed": true
   },
   "outputs": [],
   "source": []
  }
 ],
 "metadata": {
  "kernelspec": {
   "display_name": "Python 3",
   "language": "python",
   "name": "python3"
  },
  "language_info": {
   "codemirror_mode": {
    "name": "ipython",
    "version": 3
   },
   "file_extension": ".py",
   "mimetype": "text/x-python",
   "name": "python",
   "nbconvert_exporter": "python",
   "pygments_lexer": "ipython3",
   "version": "3.6.3"
  }
 },
 "nbformat": 4,
 "nbformat_minor": 2
}
